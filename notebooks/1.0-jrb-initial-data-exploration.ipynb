{
 "cells": [
  {
   "cell_type": "code",
   "execution_count": 27,
   "metadata": {},
   "outputs": [],
   "source": [
    "import pandas as pd\n",
    "import numpy as np\n",
    "\n",
    "import matplotlib.pyplot as plt\n",
    "import seaborn as sns\n",
    "\n",
    "sns.set_style()\n",
    "plt.rcParams['figure.figsize'] = (12, 6)"
   ]
  },
  {
   "cell_type": "code",
   "execution_count": 28,
   "metadata": {},
   "outputs": [],
   "source": [
    "df = pd.read_excel(\"../data/raw/Reporte SSMOdigital Convenios.xlsx\")"
   ]
  },
  {
   "cell_type": "markdown",
   "metadata": {},
   "source": [
    "## Identificar la procedencia de cada uno de los movimientos de un convenio\n",
    "\n",
    "En este apartado se quiere identificar la unidad en donde se ha realizado un movimiento a cada\n",
    "convenio."
   ]
  },
  {
   "cell_type": "code",
   "execution_count": 41,
   "metadata": {},
   "outputs": [],
   "source": [
    "# Deja solamente los convenios y los ordena por su numero y fecha de accion\n",
    "df_convenios = df.query(\"Categoria == 'Convenio con Entidades Públicas'\").copy()\n",
    "df_convenios = df_convenios.sort_values([\"NumInterno\", \"FechaHistorico\"])\n",
    "\n",
    "# Calcula el tiempo entre 2 acciones distintas para cada convenio\n",
    "df_convenios[\"tiempo_utilizado\"] = df_convenios.groupby(\"NumInterno\")[\"FechaHistorico\"].diff()"
   ]
  }
 ],
 "metadata": {
  "kernelspec": {
   "display_name": "convenios-ssmo",
   "language": "python",
   "name": "python3"
  },
  "language_info": {
   "codemirror_mode": {
    "name": "ipython",
    "version": 3
   },
   "file_extension": ".py",
   "mimetype": "text/x-python",
   "name": "python",
   "nbconvert_exporter": "python",
   "pygments_lexer": "ipython3",
   "version": "3.11.5"
  }
 },
 "nbformat": 4,
 "nbformat_minor": 2
}
