{
 "cells": [
  {
   "cell_type": "code",
   "execution_count": 12,
   "metadata": {},
   "outputs": [],
   "source": [
    "import pandas as pd\n",
    "import numpy as np\n",
    "\n",
    "import matplotlib.pyplot as plt\n",
    "import seaborn as sns\n",
    "\n",
    "sns.set_style()\n",
    "plt.rcParams[\"figure.figsize\"] = (12, 6)"
   ]
  },
  {
   "cell_type": "code",
   "execution_count": 16,
   "metadata": {},
   "outputs": [],
   "source": [
    "df_convenios = pd.read_csv(\"../data/processed/convenios_limpios.csv\")\n",
    "df_personas = pd.read_csv(\"../data/processed/personas_limpios.csv\")\n",
    "convenios_con_procedencia = pd.read_csv(\"../data/processed/convenios_y_procedencia.csv\")"
   ]
  },
  {
   "cell_type": "code",
   "execution_count": 17,
   "metadata": {},
   "outputs": [
    {
     "data": {
      "text/plain": [
       "Descripción Unidad\n",
       "DEPARTAMENTO GESTION APS                   171\n",
       "DEPTO GESTIÓN SALUD MENTAL Y APOYO ESP.     32\n",
       "DEPTO CAPACITACION DSSMO                    22\n",
       "DEPARTAMENTO GESTIÓN APOYO CLINICO          17\n",
       "DEPARTAMENTO DE RECURSOS FISICOS            10\n",
       "DEPTO GESTION USUARIA Y PARTIC. SOCIAL       8\n",
       "DEPTO ASESORIA JURIDICA DSSMO                4\n",
       "Name: count, dtype: int64"
      ]
     },
     "execution_count": 17,
     "metadata": {},
     "output_type": "execute_result"
    }
   ],
   "source": [
    "convenios_con_procedencia.groupby(\"NumInterno\").head(1)[\"Descripción Unidad\"].value_counts(\n",
    "    dropna=False\n",
    ")"
   ]
  }
 ],
 "metadata": {
  "kernelspec": {
   "display_name": "convenios-ssmo",
   "language": "python",
   "name": "python3"
  },
  "language_info": {
   "codemirror_mode": {
    "name": "ipython",
    "version": 3
   },
   "file_extension": ".py",
   "mimetype": "text/x-python",
   "name": "python",
   "nbconvert_exporter": "python",
   "pygments_lexer": "ipython3",
   "version": "3.11.5"
  }
 },
 "nbformat": 4,
 "nbformat_minor": 2
}
