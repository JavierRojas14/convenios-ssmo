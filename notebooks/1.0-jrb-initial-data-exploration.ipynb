{
 "cells": [
  {
   "cell_type": "code",
   "execution_count": 59,
   "metadata": {},
   "outputs": [],
   "source": [
    "import unicodedata\n",
    "\n",
    "import pandas as pd\n",
    "import numpy as np\n",
    "\n",
    "import matplotlib.pyplot as plt\n",
    "import seaborn as sns\n",
    "\n",
    "sns.set_style()\n",
    "plt.rcParams[\"figure.figsize\"] = (12, 6)"
   ]
  },
  {
   "cell_type": "code",
   "execution_count": 60,
   "metadata": {},
   "outputs": [],
   "source": [
    "def quitar_tildes(texto):\n",
    "    # Normalizar el texto para descomponer los caracteres acentuados\n",
    "    normalizado = unicodedata.normalize('NFD', texto)\n",
    "    # Filtrar los caracteres diacríticos combinados\n",
    "    texto_limpio = ''.join(c for c in normalizado if not unicodedata.combining(c))\n",
    "    return texto_limpio"
   ]
  },
  {
   "cell_type": "code",
   "execution_count": 61,
   "metadata": {},
   "outputs": [],
   "source": [
    "df = pd.read_excel(\"../data/raw/Reporte SSMOdigital Convenios.xlsx\")\n",
    "# Limpia nombres de convenios\n",
    "df[\"NomRevisor\"] = df[\"NomRevisor\"].str.split().str.join(\" \")\n",
    "df[\"NomRevisor\"] = df[\"NomRevisor\"].apply(quitar_tildes)\n",
    "\n",
    "# Limpia nombres de largo 4\n",
    "nombres_largo_4 = df[\"NomRevisor\"].str.split().str.len() == 4\n",
    "nombres_convenios_largo_4_limpios = df[nombres_largo_4][\"NomRevisor\"].str.split()\n",
    "nombres_convenios_largo_4_limpios = (\n",
    "    nombres_convenios_largo_4_limpios.str[0]\n",
    "    + \" \"\n",
    "    + nombres_convenios_largo_4_limpios.str[2]\n",
    "    + \" \"\n",
    "    + nombres_convenios_largo_4_limpios.str[3]\n",
    ")\n",
    "\n",
    "df.loc[nombres_largo_4, \"NomRevisor\"] = nombres_convenios_largo_4_limpios"
   ]
  },
  {
   "cell_type": "markdown",
   "metadata": {},
   "source": [
    "## Identificar la procedencia de cada uno de los movimientos de un convenio\n",
    "\n",
    "En este apartado se quiere identificar la unidad en donde se ha realizado un movimiento a cada\n",
    "convenio.\n"
   ]
  },
  {
   "cell_type": "markdown",
   "metadata": {},
   "source": [
    "En este apartado se calcula la cantidad de tiempo utilizado entre cada uno de los movimiento de\n",
    "un convenio.\n"
   ]
  },
  {
   "cell_type": "code",
   "execution_count": 62,
   "metadata": {},
   "outputs": [],
   "source": [
    "# Deja solamente los convenios y los ordena por su numero y fecha de accion\n",
    "df_convenios = df.query(\"Categoria == 'Convenio con Entidades Públicas'\").copy()\n",
    "df_convenios = df_convenios.sort_values([\"NumInterno\", \"FechaHistorico\"])\n",
    "\n",
    "# Calcula el tiempo entre 2 acciones distintas para cada convenio\n",
    "df_convenios[\"tiempo_utilizado\"] = df_convenios.groupby(\"NumInterno\")[\"FechaHistorico\"].diff()\n",
    "\n",
    "# Calcula el tiempo total utilizado para cada convenio\n",
    "tiempo_total_por_convenio = df_convenios.groupby(\"NumInterno\")[\"FechaHistorico\"].apply(\n",
    "    lambda x: x.max() - x.min()\n",
    ")"
   ]
  },
  {
   "cell_type": "markdown",
   "metadata": {},
   "source": [
    "En este apartado se identifica cada una de las personas en el SSMO, y se formatea su nombre para\n",
    "unirlo a los movimientos de los convenios.\n"
   ]
  },
  {
   "cell_type": "code",
   "execution_count": 63,
   "metadata": {},
   "outputs": [],
   "source": [
    "df_personas = pd.read_excel(\n",
    "    \"../data/raw/Plano DSSMO dic 2023.xlsx\",\n",
    "    usecols=[\n",
    "        \"Nombre Funcionario\",\n",
    "        \"Código Unidad\",\n",
    "        \"Descripción Unidad\",\n",
    "        \"Código Unidad 2\",\n",
    "        \"Descripción Unidad 2\",\n",
    "    ],\n",
    ").drop_duplicates()"
   ]
  },
  {
   "cell_type": "markdown",
   "metadata": {},
   "source": [
    "Los nombres de las personas estan escritos en distintos formatos en las bases de datos.\n",
    "\n",
    "- En los convenios estan escritos como: PRIMER NOMBRE - PRIMER APELLIDO - SEGUNDO APELLIDO.\n",
    "- En el registro de personas estan en el formato: PRIMER APELLIDO - SEGUNDO APELLIDO - PRIMER NOMBRE - SEGUNDO NOMBRE.\n",
    "\n",
    "Por lo tanto, es necesario llegar a un formato similar.\n"
   ]
  },
  {
   "cell_type": "code",
   "execution_count": 64,
   "metadata": {},
   "outputs": [],
   "source": [
    "# Separa los nombres de los funcionarios para llevarlos al formato\n",
    "nombres_separados = df_personas[\"Nombre Funcionario\"].apply(quitar_tildes)\n",
    "nombres_separados = nombres_separados.str.split()\n",
    "df_personas[\"nombre_formateado\"] = (\n",
    "    nombres_separados.str[2] + \" \" + nombres_separados.str[0] + \" \" + nombres_separados.str[1]\n",
    ")\n",
    "# Filtra columnas necesarias\n",
    "# df_personas = df_personas[[\"nombre_formateado\", \"Nombre Funcionario\", \"Descripción Unidad\"]]"
   ]
  },
  {
   "cell_type": "code",
   "execution_count": 65,
   "metadata": {},
   "outputs": [],
   "source": [
    "# Une ambas bases de datos segun el nombre del funcionario\n",
    "convenios_con_procedencia = df_convenios.merge(\n",
    "    df_personas, how=\"left\", left_on=\"NomRevisor\", right_on=\"nombre_formateado\"\n",
    ")"
   ]
  }
 ],
 "metadata": {
  "kernelspec": {
   "display_name": "convenios-ssmo",
   "language": "python",
   "name": "python3"
  },
  "language_info": {
   "codemirror_mode": {
    "name": "ipython",
    "version": 3
   },
   "file_extension": ".py",
   "mimetype": "text/x-python",
   "name": "python",
   "nbconvert_exporter": "python",
   "pygments_lexer": "ipython3",
   "version": "3.11.5"
  }
 },
 "nbformat": 4,
 "nbformat_minor": 2
}
