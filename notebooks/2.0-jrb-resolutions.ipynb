{
 "cells": [
  {
   "cell_type": "code",
   "execution_count": 1,
   "metadata": {},
   "outputs": [],
   "source": [
    "import pandas as pd\n",
    "import numpy as np\n",
    "\n",
    "import matplotlib.pyplot as plt\n",
    "import seaborn as sns\n",
    "\n",
    "sns.set_style()\n",
    "plt.rcParams[\"figure.figsize\"] = (12, 6)"
   ]
  },
  {
   "cell_type": "code",
   "execution_count": 2,
   "metadata": {},
   "outputs": [],
   "source": [
    "df = pd.read_excel(\"../data/raw/Reporte SSMOdigital Convenios.xlsx\")"
   ]
  },
  {
   "cell_type": "markdown",
   "metadata": {},
   "source": [
    "## Objetivo del cuadernillo\n",
    "\n",
    "En este cuadernillo se quiere hacer seguimiento de las resoluciones emitiadas por el SSMO. Finalmente, se quiere saber si un convenio ya ha sido convertido a resolución. Tambien, se quiere saber las resoluciones que estan enlazadas con un convenio"
   ]
  },
  {
   "cell_type": "code",
   "execution_count": 47,
   "metadata": {},
   "outputs": [],
   "source": [
    "# Filtra solamente las resoluciones\n",
    "resoluciones = df.query(\"TipoDocumento == 'Resolución'\")\n",
    "# Agrupa por cada uno de los convenios, y obtiene las resoluciones enlazadas al convenio\n",
    "convenios_con_resoluciones = (\n",
    "    resoluciones.groupby(\"DocConvAsociado\")[\"NumInterno\"].unique().astype(str)\n",
    ")\n",
    "# Renombra la lista de resoluciones a un nombre apropiado\n",
    "convenios_con_resoluciones.name = \"DocResAsociado\"\n",
    "\n",
    "# Une los convenios con sus respectivas resoluciones\n",
    "df_con_convenios_asociados_a_resoluciones = df.set_index(\"NumInterno\").merge(\n",
    "    convenios_con_resoluciones, how=\"left\", left_index=True, right_index=True\n",
    ").reset_index()"
   ]
  }
 ],
 "metadata": {
  "kernelspec": {
   "display_name": "convenios-ssmo",
   "language": "python",
   "name": "python3"
  },
  "language_info": {
   "codemirror_mode": {
    "name": "ipython",
    "version": 3
   },
   "file_extension": ".py",
   "mimetype": "text/x-python",
   "name": "python",
   "nbconvert_exporter": "python",
   "pygments_lexer": "ipython3",
   "version": "3.11.7"
  }
 },
 "nbformat": 4,
 "nbformat_minor": 2
}
