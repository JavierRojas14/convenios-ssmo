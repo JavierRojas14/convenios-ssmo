{
 "cells": [
  {
   "cell_type": "code",
   "execution_count": 1,
   "metadata": {},
   "outputs": [],
   "source": [
    "import pandas as pd\n",
    "import numpy as np\n",
    "\n",
    "import matplotlib.pyplot as plt\n",
    "import seaborn as sns\n",
    "\n",
    "sns.set_style()\n",
    "plt.rcParams[\"figure.figsize\"] = (12, 6)"
   ]
  },
  {
   "cell_type": "code",
   "execution_count": 2,
   "metadata": {},
   "outputs": [],
   "source": [
    "df = pd.read_excel(\"../data/raw/Reporte SSMOdigital Convenios.xlsx\")"
   ]
  },
  {
   "cell_type": "markdown",
   "metadata": {},
   "source": [
    "## Objetivo del cuadernillo\n",
    "\n",
    "En este cuadernillo se quiere hacer seguimiento de las resoluciones emitiadas por el SSMO. Finalmente, se quiere saber si un convenio ya ha sido convertido a resolución. Tambien, se quiere saber las resoluciones que estan enlazadas con un convenio"
   ]
  },
  {
   "cell_type": "code",
   "execution_count": 28,
   "metadata": {},
   "outputs": [],
   "source": [
    "# Filtra solamente las resoluciones\n",
    "resoluciones = df.query(\"TipoDocumento == 'Resolución'\")\n",
    "# Agrupa por cada uno de los convenios, y obtiene las resoluciones enlazadas al convenio\n",
    "convenios_con_resoluciones = resoluciones.groupby(\"DocConvAsociado\")[\"NumInterno\"].unique()"
   ]
  },
  {
   "cell_type": "code",
   "execution_count": 29,
   "metadata": {},
   "outputs": [
    {
     "data": {
      "text/plain": [
       "DocConvAsociado\n",
       "1030010-2                  [1030032-63]\n",
       "1030010-5    [1030032-392, 1030032-400]\n",
       "1030010-6                 [1030032-441]\n",
       "1060010-1                 [1030032-273]\n",
       "1060010-9                 [1030032-399]\n",
       "                        ...            \n",
       "4040010-5                 [1030032-237]\n",
       "4040010-6                 [1030032-238]\n",
       "4040010-7                 [1030032-239]\n",
       "4040010-8                 [1030032-240]\n",
       "4040010-9                 [1030032-241]\n",
       "Name: NumInterno, Length: 255, dtype: object"
      ]
     },
     "execution_count": 29,
     "metadata": {},
     "output_type": "execute_result"
    }
   ],
   "source": [
    "convenios_con_resoluciones"
   ]
  }
 ],
 "metadata": {
  "kernelspec": {
   "display_name": "convenios-ssmo",
   "language": "python",
   "name": "python3"
  },
  "language_info": {
   "codemirror_mode": {
    "name": "ipython",
    "version": 3
   },
   "file_extension": ".py",
   "mimetype": "text/x-python",
   "name": "python",
   "nbconvert_exporter": "python",
   "pygments_lexer": "ipython3",
   "version": "3.11.7"
  }
 },
 "nbformat": 4,
 "nbformat_minor": 2
}
